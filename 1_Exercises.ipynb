{
 "cells": [
  {
   "cell_type": "markdown",
   "id": "38e188a5",
   "metadata": {},
   "source": [
    "# Exercise 00\n",
    "Write a piece of code that allocates a list of 20 integers and initializes each element by its index multiplied by 5. Print the result."
   ]
  },
  {
   "cell_type": "code",
   "execution_count": 3,
   "id": "01aa4f35",
   "metadata": {},
   "outputs": [
    {
     "name": "stdout",
     "output_type": "stream",
     "text": [
      "[0, 5, 10, 15, 20, 25, 30, 35, 40, 45, 50, 55, 60, 65, 70, 75, 80, 85, 90, 95]\n"
     ]
    }
   ],
   "source": [
    "result_list = [i * 5 for i in range(20)]\n",
    "print(result_list)"
   ]
  },
  {
   "cell_type": "markdown",
   "id": "529d91ae",
   "metadata": {},
   "source": [
    "# Exercise 01\n",
    "Define a function that takes an integer as input, prints  all integers that it is divisable by, and returns the largest one."
   ]
  },
  {
   "cell_type": "code",
   "execution_count": 20,
   "id": "30e79132",
   "metadata": {},
   "outputs": [
    {
     "name": "stdin",
     "output_type": "stream",
     "text": [
      "Enter an integer:  25\n"
     ]
    },
    {
     "name": "stdout",
     "output_type": "stream",
     "text": [
      "Divisors of 25 are:\n",
      "1\n",
      "5\n",
      "25\n",
      "The largest divisor of 25 is: 25\n"
     ]
    }
   ],
   "source": [
    "def divisors_and_largest(num):\n",
    "    largest_divisor = 1 \n",
    "    print(f\"Divisors of {num} are:\")\n",
    "\n",
    "    for i in range(1, num + 1):\n",
    "        if num % i == 0:  \n",
    "            print(i)\n",
    "            largest_divisor = i  \n",
    "\n",
    "    return largest_divisor\n",
    "\n",
    "input_number = int(input(\"Enter an integer: \"))\n",
    "largest = divisors_and_largest(input_number)\n",
    "print(f\"The largest divisor of {input_number} is: {largest}\")"
   ]
  },
  {
   "cell_type": "markdown",
   "id": "cfbe30d4",
   "metadata": {},
   "source": [
    "# Exercise 02\n",
    "- create a dictionary with 6 keys and values of your choice\n",
    "- write a function that takes a dictionary and a value as input and returns whether the value occurs as a key in the dictionary\n",
    "- write a function that takes a dictionary as input, and returns the dictionary but the keys are swapped with their values (resolve the issue if a value occurs twice!)"
   ]
  },
  {
   "cell_type": "code",
   "execution_count": 25,
   "id": "2123f1c6",
   "metadata": {},
   "outputs": [
    {
     "name": "stdout",
     "output_type": "stream",
     "text": [
      "Is 'name' a key in the dictionary? True\n",
      "Swapped Dictionary:\n",
      "{'zzy': 'name', 22: 'age', 'China': 'country', 'student': 'job', '177': 'tall', 'Cat': 'pet'}\n"
     ]
    }
   ],
   "source": [
    "my_dict = {\n",
    "    'name': 'zzy',\n",
    "    'age': 22,\n",
    "    'country': 'China',\n",
    "    'job': 'student',\n",
    "    'tall': '177',\n",
    "    'pet': 'Cat'\n",
    "}\n",
    "\n",
    "def is_value_key(d, value):\n",
    "    return value in d\n",
    "\n",
    "def swap_keys_values(d):\n",
    "    swapped_dict = {}\n",
    "    for key, value in d.items():\n",
    "        if value in swapped_dict:\n",
    "            if isinstance(swapped_dict[value], list):\n",
    "                swapped_dict[value].append(key)\n",
    "            else:\n",
    "                swapped_dict[value] = [swapped_dict[value], key]\n",
    "        else:\n",
    "            swapped_dict[value] = key\n",
    "    return swapped_dict\n",
    "\n",
    "value_to_check = 'name'\n",
    "print(f\"Is '{value_to_check}' a key in the dictionary? {is_value_key(my_dict, value_to_check)}\")\n",
    "\n",
    "swapped_dictionary = swap_keys_values(my_dict)\n",
    "print(\"Swapped Dictionary:\")\n",
    "print(swapped_dictionary)"
   ]
  },
  {
   "cell_type": "markdown",
   "id": "b4b4e426",
   "metadata": {},
   "source": [
    "# Exercise 03\n",
    "Define a function that creates a dictionary of the first n fibonacci numbers as values paired with their indices as keys. "
   ]
  },
  {
   "cell_type": "code",
   "execution_count": 27,
   "id": "7845b5a4",
   "metadata": {},
   "outputs": [
    {
     "name": "stdin",
     "output_type": "stream",
     "text": [
      "Enter the number of Fibonacci numbers:  30\n"
     ]
    },
    {
     "name": "stdout",
     "output_type": "stream",
     "text": [
      "The first 30 Fibonacci numbers are:\n",
      "{0: 0, 1: 1, 2: 1, 3: 2, 4: 3, 5: 5, 6: 8, 7: 13, 8: 21, 9: 34, 10: 55, 11: 89, 12: 144, 13: 233, 14: 377, 15: 610, 16: 987, 17: 1597, 18: 2584, 19: 4181, 20: 6765, 21: 10946, 22: 17711, 23: 28657, 24: 46368, 25: 75025, 26: 121393, 27: 196418, 28: 317811, 29: 514229}\n"
     ]
    }
   ],
   "source": [
    "def fibonacci_dict(n):\n",
    "    fib_dict = {}\n",
    "    \n",
    "    a, b = 0, 1\n",
    "    \n",
    "    for i in range(n):\n",
    "        fib_dict[i] = a\n",
    "        \n",
    "        a, b = b, a + b\n",
    "    \n",
    "    return fib_dict\n",
    "\n",
    "n = int(input(\"Enter the number of Fibonacci numbers: \"))\n",
    "fib_numbers = fibonacci_dict(n)\n",
    "print(f\"The first {n} Fibonacci numbers are:\")\n",
    "print(fib_numbers)"
   ]
  },
  {
   "cell_type": "code",
   "execution_count": null,
   "id": "7d22edc0-c460-4842-82ee-276e8238f3bd",
   "metadata": {},
   "outputs": [],
   "source": []
  }
 ],
 "metadata": {
  "kernelspec": {
   "display_name": "Python 3 (ipykernel)",
   "language": "python",
   "name": "python3"
  },
  "language_info": {
   "codemirror_mode": {
    "name": "ipython",
    "version": 3
   },
   "file_extension": ".py",
   "mimetype": "text/x-python",
   "name": "python",
   "nbconvert_exporter": "python",
   "pygments_lexer": "ipython3",
   "version": "3.12.4"
  }
 },
 "nbformat": 4,
 "nbformat_minor": 5
}
