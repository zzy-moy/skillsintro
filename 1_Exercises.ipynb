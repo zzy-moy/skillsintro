{
 "cells": [
  {
   "cell_type": "markdown",
   "id": "38e188a5",
   "metadata": {},
   "source": [
    "# Exercise 00\n",
    "Write a piece of code that allocates a list of 20 integers and initializes each element by its index multiplied by 5. Print the result."
   ]
  },
  {
   "cell_type": "code",
   "execution_count": 3,
   "id": "01aa4f35",
   "metadata": {},
   "outputs": [
    {
     "name": "stdout",
     "output_type": "stream",
     "text": [
      "[0, 5, 10, 15, 20, 25, 30, 35, 40, 45, 50, 55, 60, 65, 70, 75, 80, 85, 90, 95]\n"
     ]
    }
   ],
   "source": [
    "result_list = [i * 5 for i in range(20)]\n",
    "print(result_list)"
   ]
  },
  {
   "cell_type": "markdown",
   "id": "529d91ae",
   "metadata": {},
   "source": [
    "# Exercise 01\n",
    "Define a function that takes an integer as input, prints  all integers that it is divisable by, and returns the largest one."
   ]
  },
  {
   "cell_type": "code",
   "execution_count": 20,
   "id": "30e79132",
   "metadata": {},
   "outputs": [
    {
     "name": "stdin",
     "output_type": "stream",
     "text": [
      "Enter an integer:  25\n"
     ]
    },
    {
     "name": "stdout",
     "output_type": "stream",
     "text": [
      "Divisors of 25 are:\n",
      "1\n",
      "5\n",
      "25\n",
      "The largest divisor of 25 is: 25\n"
     ]
    }
   ],
   "source": [
    "def divisors_and_largest(num):\n",
    "    largest_divisor = 1 \n",
    "    print(f\"Divisors of {num} are:\")\n",
    "\n",
    "    for i in range(1, num + 1):\n",
    "        if num % i == 0:  \n",
    "            print(i)\n",
    "            largest_divisor = i  \n",
    "\n",
    "    return largest_divisor\n",
    "\n",
    "input_number = int(input(\"Enter an integer: \"))\n",
    "largest = divisors_and_largest(input_number)\n",
    "print(f\"The largest divisor of {input_number} is: {largest}\")"
   ]
  },
  {
   "cell_type": "markdown",
   "id": "cfbe30d4",
   "metadata": {},
   "source": [
    "# Exercise 02\n",
    "- create a dictionary with 6 keys and values of your choice\n",
    "- write a function that takes a dictionary and a value as input and returns whether the value occurs as a key in the dictionary\n",
    "- write a function that takes a dictionary as input, and returns the dictionary but the keys are swapped with their values (resolve the issue if a value occurs twice!)"
   ]
  },
  {
   "cell_type": "code",
   "execution_count": null,
   "id": "2123f1c6",
   "metadata": {},
   "outputs": [],
   "source": []
  },
  {
   "cell_type": "markdown",
   "id": "b4b4e426",
   "metadata": {},
   "source": [
    "# Exercise 03\n",
    "Define a function that creates a dictionary of the first n fibonacci numbers as values paired with their indices as keys. "
   ]
  },
  {
   "cell_type": "code",
   "execution_count": null,
   "id": "7845b5a4",
   "metadata": {},
   "outputs": [],
   "source": []
  }
 ],
 "metadata": {
  "kernelspec": {
   "display_name": "Python 3 (ipykernel)",
   "language": "python",
   "name": "python3"
  },
  "language_info": {
   "codemirror_mode": {
    "name": "ipython",
    "version": 3
   },
   "file_extension": ".py",
   "mimetype": "text/x-python",
   "name": "python",
   "nbconvert_exporter": "python",
   "pygments_lexer": "ipython3",
   "version": "3.12.4"
  }
 },
 "nbformat": 4,
 "nbformat_minor": 5
}
